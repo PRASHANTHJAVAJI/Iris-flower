{
 "cells": [
  {
   "cell_type": "code",
   "execution_count": 2,
   "metadata": {
    "_cell_guid": "b1076dfc-b9ad-4769-8c92-a6c4dae69d19",
    "_uuid": "8f2839f25d086af736a60e9eeb907d3b93b6e0e5"
   },
   "outputs": [
    {
     "name": "stdout",
     "output_type": "stream",
     "text": [
      "Enter first array:3 99 66 65 12 9 45\n",
      "Enter second array:55 59 12 28 67 66 91 93\n",
      "Array 1 : [ 3 99 66 65 12  9 45]\n",
      "Array 2 : [55 59 12 28 67 66 91 93]\n",
      "Do both of these arrays share the same memory :  False\n",
      "Any Elements of array 1 that are divisible by 3 :  [ True  True  True False  True  True  True]\n",
      "Elements of array 1 divisible by 3 are :  [ 3 99 66 12  9 45]\n",
      "Any Elements of array 2 that are divisible by 3 :  [False False  True False False  True False  True]\n",
      "Elements of array 2 divisible by 3 are :  [12 66 93]\n",
      "Array 2 after sorting is :\n",
      "[12 28 55 59 66 67 91 93]\n",
      "Sum of elements of array 1 is :\n",
      "299\n"
     ]
    }
   ],
   "source": [
    "# Creating two NumPy array by takin user input of data stored in array, check if they have views to same memory, \n",
    "# check if elements of arrays are divisible by 3 or not sort 2nd array and find sum of all elements of 1st array\n",
    "import numpy as np\n",
    "inp1 = input(\"Enter first array:\")\n",
    "a = list(map(int, inp1.rstrip().split()))\n",
    "inp2 = input(\"Enter second array:\")\n",
    "b = list(map(int, inp2.rstrip().split()))\n",
    "Arr1 = np.array(a)\n",
    "Arr2 = np.array(b)\n",
    "print(\"Array 1 :\",Arr1)\n",
    "print(\"Array 2 :\",Arr2)\n",
    "\n",
    "print(\"Do both of these arrays share the same memory : \",id(Arr1)==id(Arr2))\n",
    "\n",
    "print(\"Any Elements of array 1 that are divisible by 3 : \", Arr1%3==0)\n",
    "print(\"Elements of array 1 divisible by 3 are : \",Arr1[Arr1%3==0])\n",
    "print(\"Any Elements of array 2 that are divisible by 3 : \", Arr2%3==0)\n",
    "print(\"Elements of array 2 divisible by 3 are : \",Arr2[Arr2%3==0])\n",
    "\n",
    "Arr2.sort()\n",
    "print(\"Array 2 after sorting is :\")\n",
    "print(Arr2)\n",
    "print(\"Sum of elements of array 1 is :\")\n",
    "print (Arr1.sum())"
   ]
  },
  {
   "cell_type": "code",
   "execution_count": 3,
   "metadata": {
    "_cell_guid": "79c7e3d0-c299-4dcb-8224-4455121ee9b0",
    "_uuid": "d629ff2d2480ee46fbb7e2d37f6b5fab8052498a"
   },
   "outputs": [
    {
     "name": "stdout",
     "output_type": "stream",
     "text": [
      "TITANIC DATASET : \n",
      "   Id  SepalLengthCm  SepalWidthCm  PetalLengthCm  PetalWidthCm      Species\n",
      "0   1            5.1           3.5            1.4           0.2  Iris-setosa\n",
      "1   2            4.9           3.0            1.4           0.2  Iris-setosa\n",
      "2   3            4.7           3.2            1.3           0.2  Iris-setosa\n",
      "3   4            4.6           3.1            1.5           0.2  Iris-setosa\n",
      "4   5            5.0           3.6            1.4           0.2  Iris-setosa\n",
      "TITANIC DATASET SHAPE :  (150, 6)\n",
      "(150, 6)\n",
      "_______________________________________________________\n",
      "TITANIC DATASET : \n",
      "   Id  SepalLengthCm  SepalWidthCm  PetalLengthCm  PetalWidthCm      Species\n",
      "0   1            5.1           3.5            1.4           0.2  Iris-setosa\n",
      "1   2            4.9           3.0            1.4           0.2  Iris-setosa\n",
      "2   3            4.7           3.2            1.3           0.2  Iris-setosa\n",
      "3   4            4.6           3.1            1.5           0.2  Iris-setosa\n",
      "4   5            5.0           3.6            1.4           0.2  Iris-setosa\n",
      "TITANIC DATASET SHAPE :  (150, 6)\n",
      "(150, 6)\n",
      "________________________________________________________\n",
      "Mean value of first 50 samples: \n",
      " Id               25.500\n",
      "SepalLengthCm     5.006\n",
      "SepalWidthCm      3.418\n",
      "PetalLengthCm     1.464\n",
      "PetalWidthCm      0.244\n",
      "dtype: float64\n"
     ]
    },
    {
     "name": "stderr",
     "output_type": "stream",
     "text": [
      "/var/folders/hw/4lbxv8d577sc1lylv9hllsww0000gn/T/ipykernel_7222/365608377.py:17: FutureWarning: Dropping of nuisance columns in DataFrame reductions (with 'numeric_only=None') is deprecated; in a future version this will raise TypeError.  Select only valid columns before calling the reduction.\n",
      "  print(\"________________________________________________________\\nMean value of first 50 samples: \\n\",titanic_data[:50].mean())\n"
     ]
    },
    {
     "ename": "KeyError",
     "evalue": "'Sex'",
     "output_type": "error",
     "traceback": [
      "\u001b[0;31m---------------------------------------------------------------------------\u001b[0m",
      "\u001b[0;31mKeyError\u001b[0m                                  Traceback (most recent call last)",
      "\u001b[0;32m~/opt/anaconda3/lib/python3.9/site-packages/pandas/core/indexes/base.py\u001b[0m in \u001b[0;36mget_loc\u001b[0;34m(self, key, method, tolerance)\u001b[0m\n\u001b[1;32m   3360\u001b[0m             \u001b[0;32mtry\u001b[0m\u001b[0;34m:\u001b[0m\u001b[0;34m\u001b[0m\u001b[0;34m\u001b[0m\u001b[0m\n\u001b[0;32m-> 3361\u001b[0;31m                 \u001b[0;32mreturn\u001b[0m \u001b[0mself\u001b[0m\u001b[0;34m.\u001b[0m\u001b[0m_engine\u001b[0m\u001b[0;34m.\u001b[0m\u001b[0mget_loc\u001b[0m\u001b[0;34m(\u001b[0m\u001b[0mcasted_key\u001b[0m\u001b[0;34m)\u001b[0m\u001b[0;34m\u001b[0m\u001b[0;34m\u001b[0m\u001b[0m\n\u001b[0m\u001b[1;32m   3362\u001b[0m             \u001b[0;32mexcept\u001b[0m \u001b[0mKeyError\u001b[0m \u001b[0;32mas\u001b[0m \u001b[0merr\u001b[0m\u001b[0;34m:\u001b[0m\u001b[0;34m\u001b[0m\u001b[0;34m\u001b[0m\u001b[0m\n",
      "\u001b[0;32m~/opt/anaconda3/lib/python3.9/site-packages/pandas/_libs/index.pyx\u001b[0m in \u001b[0;36mpandas._libs.index.IndexEngine.get_loc\u001b[0;34m()\u001b[0m\n",
      "\u001b[0;32m~/opt/anaconda3/lib/python3.9/site-packages/pandas/_libs/index.pyx\u001b[0m in \u001b[0;36mpandas._libs.index.IndexEngine.get_loc\u001b[0;34m()\u001b[0m\n",
      "\u001b[0;32mpandas/_libs/hashtable_class_helper.pxi\u001b[0m in \u001b[0;36mpandas._libs.hashtable.PyObjectHashTable.get_item\u001b[0;34m()\u001b[0m\n",
      "\u001b[0;32mpandas/_libs/hashtable_class_helper.pxi\u001b[0m in \u001b[0;36mpandas._libs.hashtable.PyObjectHashTable.get_item\u001b[0;34m()\u001b[0m\n",
      "\u001b[0;31mKeyError\u001b[0m: 'Sex'",
      "\nThe above exception was the direct cause of the following exception:\n",
      "\u001b[0;31mKeyError\u001b[0m                                  Traceback (most recent call last)",
      "\u001b[0;32m/var/folders/hw/4lbxv8d577sc1lylv9hllsww0000gn/T/ipykernel_7222/365608377.py\u001b[0m in \u001b[0;36m<module>\u001b[0;34m\u001b[0m\n\u001b[1;32m     17\u001b[0m \u001b[0mprint\u001b[0m\u001b[0;34m(\u001b[0m\u001b[0;34m\"________________________________________________________\\nMean value of first 50 samples: \\n\"\u001b[0m\u001b[0;34m,\u001b[0m\u001b[0mtitanic_data\u001b[0m\u001b[0;34m[\u001b[0m\u001b[0;34m:\u001b[0m\u001b[0;36m50\u001b[0m\u001b[0;34m]\u001b[0m\u001b[0;34m.\u001b[0m\u001b[0mmean\u001b[0m\u001b[0;34m(\u001b[0m\u001b[0;34m)\u001b[0m\u001b[0;34m)\u001b[0m\u001b[0;34m\u001b[0m\u001b[0;34m\u001b[0m\u001b[0m\n\u001b[1;32m     18\u001b[0m \u001b[0;34m\u001b[0m\u001b[0m\n\u001b[0;32m---> 19\u001b[0;31m \u001b[0mprint\u001b[0m\u001b[0;34m(\u001b[0m\u001b[0;34m\"_______________________________________________________\\nMean of the number of male passengers( Sex=1) on the ship :\\n\"\u001b[0m\u001b[0;34m,\u001b[0m\u001b[0mtitanic_data\u001b[0m\u001b[0;34m[\u001b[0m\u001b[0mtitanic_data\u001b[0m\u001b[0;34m[\u001b[0m\u001b[0;34m'Sex'\u001b[0m\u001b[0;34m]\u001b[0m\u001b[0;34m==\u001b[0m\u001b[0;36m1\u001b[0m\u001b[0;34m]\u001b[0m\u001b[0;34m.\u001b[0m\u001b[0mmean\u001b[0m\u001b[0;34m(\u001b[0m\u001b[0;34m)\u001b[0m\u001b[0;34m)\u001b[0m\u001b[0;34m\u001b[0m\u001b[0;34m\u001b[0m\u001b[0m\n\u001b[0m\u001b[1;32m     20\u001b[0m \u001b[0;34m\u001b[0m\u001b[0m\n\u001b[1;32m     21\u001b[0m \u001b[0mprint\u001b[0m\u001b[0;34m(\u001b[0m\u001b[0;34m\"_______________________________________________________\\nHighest fare paid by any passenger: \"\u001b[0m\u001b[0;34m,\u001b[0m\u001b[0mtitanic_data\u001b[0m\u001b[0;34m[\u001b[0m\u001b[0;34m'Fare'\u001b[0m\u001b[0;34m]\u001b[0m\u001b[0;34m.\u001b[0m\u001b[0mmax\u001b[0m\u001b[0;34m(\u001b[0m\u001b[0;34m)\u001b[0m\u001b[0;34m)\u001b[0m\u001b[0;34m\u001b[0m\u001b[0;34m\u001b[0m\u001b[0m\n",
      "\u001b[0;32m~/opt/anaconda3/lib/python3.9/site-packages/pandas/core/frame.py\u001b[0m in \u001b[0;36m__getitem__\u001b[0;34m(self, key)\u001b[0m\n\u001b[1;32m   3456\u001b[0m             \u001b[0;32mif\u001b[0m \u001b[0mself\u001b[0m\u001b[0;34m.\u001b[0m\u001b[0mcolumns\u001b[0m\u001b[0;34m.\u001b[0m\u001b[0mnlevels\u001b[0m \u001b[0;34m>\u001b[0m \u001b[0;36m1\u001b[0m\u001b[0;34m:\u001b[0m\u001b[0;34m\u001b[0m\u001b[0;34m\u001b[0m\u001b[0m\n\u001b[1;32m   3457\u001b[0m                 \u001b[0;32mreturn\u001b[0m \u001b[0mself\u001b[0m\u001b[0;34m.\u001b[0m\u001b[0m_getitem_multilevel\u001b[0m\u001b[0;34m(\u001b[0m\u001b[0mkey\u001b[0m\u001b[0;34m)\u001b[0m\u001b[0;34m\u001b[0m\u001b[0;34m\u001b[0m\u001b[0m\n\u001b[0;32m-> 3458\u001b[0;31m             \u001b[0mindexer\u001b[0m \u001b[0;34m=\u001b[0m \u001b[0mself\u001b[0m\u001b[0;34m.\u001b[0m\u001b[0mcolumns\u001b[0m\u001b[0;34m.\u001b[0m\u001b[0mget_loc\u001b[0m\u001b[0;34m(\u001b[0m\u001b[0mkey\u001b[0m\u001b[0;34m)\u001b[0m\u001b[0;34m\u001b[0m\u001b[0;34m\u001b[0m\u001b[0m\n\u001b[0m\u001b[1;32m   3459\u001b[0m             \u001b[0;32mif\u001b[0m \u001b[0mis_integer\u001b[0m\u001b[0;34m(\u001b[0m\u001b[0mindexer\u001b[0m\u001b[0;34m)\u001b[0m\u001b[0;34m:\u001b[0m\u001b[0;34m\u001b[0m\u001b[0;34m\u001b[0m\u001b[0m\n\u001b[1;32m   3460\u001b[0m                 \u001b[0mindexer\u001b[0m \u001b[0;34m=\u001b[0m \u001b[0;34m[\u001b[0m\u001b[0mindexer\u001b[0m\u001b[0;34m]\u001b[0m\u001b[0;34m\u001b[0m\u001b[0;34m\u001b[0m\u001b[0m\n",
      "\u001b[0;32m~/opt/anaconda3/lib/python3.9/site-packages/pandas/core/indexes/base.py\u001b[0m in \u001b[0;36mget_loc\u001b[0;34m(self, key, method, tolerance)\u001b[0m\n\u001b[1;32m   3361\u001b[0m                 \u001b[0;32mreturn\u001b[0m \u001b[0mself\u001b[0m\u001b[0;34m.\u001b[0m\u001b[0m_engine\u001b[0m\u001b[0;34m.\u001b[0m\u001b[0mget_loc\u001b[0m\u001b[0;34m(\u001b[0m\u001b[0mcasted_key\u001b[0m\u001b[0;34m)\u001b[0m\u001b[0;34m\u001b[0m\u001b[0;34m\u001b[0m\u001b[0m\n\u001b[1;32m   3362\u001b[0m             \u001b[0;32mexcept\u001b[0m \u001b[0mKeyError\u001b[0m \u001b[0;32mas\u001b[0m \u001b[0merr\u001b[0m\u001b[0;34m:\u001b[0m\u001b[0;34m\u001b[0m\u001b[0;34m\u001b[0m\u001b[0m\n\u001b[0;32m-> 3363\u001b[0;31m                 \u001b[0;32mraise\u001b[0m \u001b[0mKeyError\u001b[0m\u001b[0;34m(\u001b[0m\u001b[0mkey\u001b[0m\u001b[0;34m)\u001b[0m \u001b[0;32mfrom\u001b[0m \u001b[0merr\u001b[0m\u001b[0;34m\u001b[0m\u001b[0;34m\u001b[0m\u001b[0m\n\u001b[0m\u001b[1;32m   3364\u001b[0m \u001b[0;34m\u001b[0m\u001b[0m\n\u001b[1;32m   3365\u001b[0m         \u001b[0;32mif\u001b[0m \u001b[0mis_scalar\u001b[0m\u001b[0;34m(\u001b[0m\u001b[0mkey\u001b[0m\u001b[0;34m)\u001b[0m \u001b[0;32mand\u001b[0m \u001b[0misna\u001b[0m\u001b[0;34m(\u001b[0m\u001b[0mkey\u001b[0m\u001b[0;34m)\u001b[0m \u001b[0;32mand\u001b[0m \u001b[0;32mnot\u001b[0m \u001b[0mself\u001b[0m\u001b[0;34m.\u001b[0m\u001b[0mhasnans\u001b[0m\u001b[0;34m:\u001b[0m\u001b[0;34m\u001b[0m\u001b[0;34m\u001b[0m\u001b[0m\n",
      "\u001b[0;31mKeyError\u001b[0m: 'Sex'"
     ]
    }
   ],
   "source": [
    "# Load the titanic dataset, remove missing values from all attributes, find mean value of first 50 samples, \n",
    "# find the mean of the number of male passengers( Sex=1) on the ship, find the highest fare paid by any passenger.\n",
    "\n",
    "import pandas as pd\n",
    "titanic_data=pd.read_csv(\"iris.csv\")\n",
    "print(\"TITANIC DATASET : \")\n",
    "print(titanic_data.head())\n",
    "print(\"TITANIC DATASET SHAPE : \",titanic_data.shape)\n",
    "print(titanic_data.shape)\n",
    "\n",
    "titanic_data.dropna(axis=1, how='all')\n",
    "print(\"_______________________________________________________\\nTITANIC DATASET : \")\n",
    "print(titanic_data.head())\n",
    "print(\"TITANIC DATASET SHAPE : \",titanic_data.shape)\n",
    "print(titanic_data.shape)\n",
    "\n",
    "print(\"________________________________________________________\\nMean value of first 50 samples: \\n\",titanic_data[:50].mean())\n",
    "\n",
    "print(\"_______________________________________________________\\nMean of the number of male passengers( Sex=1) on the ship :\\n\",titanic_data[titanic_data['Sex']==1].mean())\n",
    "\n",
    "print(\"_______________________________________________________\\nHighest fare paid by any passenger: \",titanic_data['Fare'].max())"
   ]
  },
  {
   "cell_type": "code",
   "execution_count": 4,
   "metadata": {},
   "outputs": [
    {
     "data": {
      "image/png": "[encoded data removed]",
      "text/plain": [
       "<Figure size 432x288 with 1 Axes>"
      ]
     },
     "metadata": {},
     "output_type": "display_data"
    }
   ],
   "source": [
    "# A student has got the following marks ( English = 86, Maths = 83, Science = 86, History =90, Geography = 88). \n",
    "# Wisely choose a graph to represent this data such that it justifies the purpose of data visualization. \n",
    "# Highlight the subject in which the student has got least marks. \n",
    "\n",
    "import matplotlib.pyplot as plt\n",
    "sub=[\"English\",\"Maths\",\"Science\",\"Hsitory\",\"Geography\"]\n",
    "marks=[86,83,86,90,88]\n",
    "cols=[\"y\",\"c\",\"r\",\"b\",\"g\"]\n",
    "plt.pie(marks,labels=sub,colors=cols,startangle=90,shadow=True,explode=(0,0.3,0,0,0),autopct='%1.2f%%')\n",
    "plt.title(\"Pie Graph for Data Visualization\")\n",
    "plt.show()"
   ]
  },
  {
   "cell_type": "code",
   "execution_count": 6,
   "metadata": {},
   "outputs": [
    {
     "name": "stdout",
     "output_type": "stream",
     "text": [
      "F1 Score    :  1.0\n",
      "Confusion Matrix: \n",
      "[[10  0  0]\n",
      " [ 0 10  0]\n",
      " [ 0  0 10]]\n"
     ]
    }
   ],
   "source": [
    "# Load the iris dataset, print the confusion matrix and f1_score as computed on the features.\n",
    "import pandas as pd\n",
    "from sklearn.model_selection import train_test_split\n",
    "from sklearn.metrics import confusion_matrix, f1_score\n",
    "from sklearn.linear_model import LogisticRegression\n",
    "from sklearn.naive_bayes import GaussianNB\n",
    "\n",
    "df = pd.read_csv('Iris.csv', error_bad_lines=False)\n",
    "df = df.drop(['Id'], axis=1)\n",
    "df['Species'] = pd.factorize(df[\"Species\"])[0] \n",
    "Target = 'Species'\n",
    "Features = ['SepalLengthCm', 'SepalWidthCm', 'PetalLengthCm', 'PetalWidthCm']\n",
    "\n",
    "model = LogisticRegression(solver='lbfgs', multi_class='auto')\n",
    "Features = ['SepalWidthCm', 'PetalLengthCm', 'PetalWidthCm']\n",
    "\n",
    "x, y = train_test_split(df, \n",
    "                        test_size = 0.2, \n",
    "                        train_size = 0.8, \n",
    "                        random_state= 3)\n",
    "\n",
    "x1 = x[Features]\n",
    "x2 = x[Target]\n",
    "y1 = y[Features]\n",
    "y2 = y[Target]\n",
    "\n",
    "nb_model = GaussianNB() \n",
    "nb_model.fit(X=x1, y=x2)\n",
    "result= nb_model.predict(y[Features]) \n",
    "\n",
    "f1_sc = f1_score(y2, result, average='micro')\n",
    "confusion_m = confusion_matrix(y2, result)\n",
    "print(\"F1 Score    : \", f1_sc)\n",
    "print(\"Confusion Matrix: \")\n",
    "print(confusion_m)"
   ]
  },
  {
   "cell_type": "code",
   "execution_count": null,
   "metadata": {},
   "outputs": [],
   "source": []
  }
 ],
 "metadata": {
  "kernelspec": {
   "display_name": "Python 3 (ipykernel)",
   "language": "python",
   "name": "python3"
  },
  "language_info": {
   "codemirror_mode": {
    "name": "ipython",
    "version": 3
   },
   "file_extension": ".py",
   "mimetype": "text/x-python",
   "name": "python",
   "nbconvert_exporter": "python",
   "pygments_lexer": "ipython3",
   "version": "3.9.7"
  }
 },
 "nbformat": 4,
 "nbformat_minor": 4
}
